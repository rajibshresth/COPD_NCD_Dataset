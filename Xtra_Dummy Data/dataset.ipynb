{
 "cells": [
  {
   "cell_type": "code",
   "execution_count": 7,
   "metadata": {},
   "outputs": [],
   "source": [
    "import pandas as pd\n",
    "import numpy as np"
   ]
  },
  {
   "cell_type": "code",
   "execution_count": 8,
   "metadata": {},
   "outputs": [],
   "source": [
    "def generate_copd_dataset(population_size=50000):\n",
    "    # Base demographics\n",
    "    base_data = {\n",
    "        'Age': np.random.randint(40, 80, population_size),\n",
    "        'Gender': np.random.choice(['Male', 'Female'], size=population_size),\n",
    "        'Location': np.random.choice(['Urban', 'Rural'], size=population_size),\n",
    "        'Income Level': np.random.choice(['Low', 'Middle', 'High'], size=population_size),\n",
    "        'Education Level': np.random.choice(['Primary', 'Secondary', 'High'], size=population_size),\n",
    "        'Occupation': np.random.choice(['Office', 'Farmer', 'Driver', 'Other'], size=population_size)\n",
    "    }\n",
    "\n",
    "    # Generate exposures\n",
    "    base_data['Biomass Fuel'] = np.random.choice([0, 1], size=population_size, p=[0.7, 0.3])\n",
    "    base_data['Tobacco Smoking'] = np.random.choice([0, 1], size=population_size, p=[0.6, 0.4])\n",
    "    base_data['Outdoor Air Poll'] = np.random.randint(1, 4, population_size)\n",
    "    base_data['Occupational Expos'] = np.random.randint(1, 4, population_size)\n",
    "    base_data['Family History'] = np.random.choice([0, 1], size=population_size, p=[0.7, 0.3])\n",
    "    base_data['Respiratory Infection'] = np.random.randint(1, 4, population_size)\n",
    "\n",
    "    # Generate COPD outcomes\n",
    "    base_data['Health Insurance'] = np.random.choice(['Yes', 'No'], size=population_size, p=[0.8, 0.2])\n",
    "    base_data['COPD Diagnosis'] = np.random.choice(['Diagnosed', 'Undiagnosed'], size=population_size, p=[0.4, 0.6])\n",
    "    base_data['COPD Severity'] = np.random.choice(['Mild', 'Moderate', 'Severe'], size=population_size, p=[0.3, 0.4, 0.3])\n",
    "\n",
    "    return pd.DataFrame(base_data)\n"
   ]
  },
  {
   "cell_type": "code",
   "execution_count": 9,
   "metadata": {},
   "outputs": [
    {
     "name": "stdout",
     "output_type": "stream",
     "text": [
      "Dataset saved to sample_COPD_dataset.csv\n"
     ]
    }
   ],
   "source": [
    "# Generate and save dataset to CSV\n",
    "dataset = generate_copd_dataset()\n",
    "filename = 'sample_COPD_dataset.csv'\n",
    "\n",
    "# Save the dataframe to a CSV file\n",
    "dataset.to_csv(filename, index=False, encoding='utf-8')\n",
    "\n",
    "print(f\"Dataset saved to {filename}\")"
   ]
  }
 ],
 "metadata": {
  "kernelspec": {
   "display_name": "base",
   "language": "python",
   "name": "python3"
  },
  "language_info": {
   "codemirror_mode": {
    "name": "ipython",
    "version": 3
   },
   "file_extension": ".py",
   "mimetype": "text/x-python",
   "name": "python",
   "nbconvert_exporter": "python",
   "pygments_lexer": "ipython3",
   "version": "3.11.7"
  }
 },
 "nbformat": 4,
 "nbformat_minor": 2
}
