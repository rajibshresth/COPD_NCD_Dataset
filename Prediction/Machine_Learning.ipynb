{
 "cells": [
  {
   "cell_type": "code",
   "execution_count": 1,
   "metadata": {},
   "outputs": [],
   "source": [
    "import pandas as pd\n",
    "from sklearn.model_selection import train_test_split\n",
    "from sklearn.ensemble import RandomForestRegressor, GradientBoostingRegressor\n",
    "from sklearn.linear_model import LinearRegression\n",
    "from sklearn.svm import SVR\n",
    "from sklearn.metrics import mean_squared_error\n",
    "import pickle"
   ]
  },
  {
   "cell_type": "code",
   "execution_count": 2,
   "metadata": {},
   "outputs": [
    {
     "data": {
      "text/html": [
       "<div>\n",
       "<style scoped>\n",
       "    .dataframe tbody tr th:only-of-type {\n",
       "        vertical-align: middle;\n",
       "    }\n",
       "\n",
       "    .dataframe tbody tr th {\n",
       "        vertical-align: top;\n",
       "    }\n",
       "\n",
       "    .dataframe thead th {\n",
       "        text-align: right;\n",
       "    }\n",
       "</style>\n",
       "<table border=\"1\" class=\"dataframe\">\n",
       "  <thead>\n",
       "    <tr style=\"text-align: right;\">\n",
       "      <th></th>\n",
       "      <th>Diseases &amp; Risk Factors</th>\n",
       "      <th>Country Name</th>\n",
       "      <th>Gender</th>\n",
       "      <th>Numeric</th>\n",
       "      <th>Confidence_Range</th>\n",
       "      <th>Year_Bin</th>\n",
       "      <th>Numeric_log</th>\n",
       "      <th>Gender_Disease</th>\n",
       "      <th>Numeric_scaled</th>\n",
       "    </tr>\n",
       "  </thead>\n",
       "  <tbody>\n",
       "    <tr>\n",
       "      <th>0</th>\n",
       "      <td>Noncommunicable diseases</td>\n",
       "      <td>Nepal</td>\n",
       "      <td>Males</td>\n",
       "      <td>19.28516</td>\n",
       "      <td>16.59685</td>\n",
       "      <td>1990s</td>\n",
       "      <td>3.009890</td>\n",
       "      <td>Males_Noncommunicable diseases</td>\n",
       "      <td>-0.340427</td>\n",
       "    </tr>\n",
       "    <tr>\n",
       "      <th>1</th>\n",
       "      <td>Noncommunicable diseases</td>\n",
       "      <td>Nepal</td>\n",
       "      <td>Females</td>\n",
       "      <td>19.23258</td>\n",
       "      <td>17.56212</td>\n",
       "      <td>1990s</td>\n",
       "      <td>3.007294</td>\n",
       "      <td>Females_Noncommunicable diseases</td>\n",
       "      <td>-0.340432</td>\n",
       "    </tr>\n",
       "    <tr>\n",
       "      <th>2</th>\n",
       "      <td>Noncommunicable diseases</td>\n",
       "      <td>Nepal</td>\n",
       "      <td>Males</td>\n",
       "      <td>18.83932</td>\n",
       "      <td>16.34251</td>\n",
       "      <td>2000s</td>\n",
       "      <td>2.987666</td>\n",
       "      <td>Males_Noncommunicable diseases</td>\n",
       "      <td>-0.340469</td>\n",
       "    </tr>\n",
       "    <tr>\n",
       "      <th>3</th>\n",
       "      <td>Noncommunicable diseases</td>\n",
       "      <td>Nepal</td>\n",
       "      <td>Females</td>\n",
       "      <td>18.76374</td>\n",
       "      <td>17.01147</td>\n",
       "      <td>2000s</td>\n",
       "      <td>2.983849</td>\n",
       "      <td>Females_Noncommunicable diseases</td>\n",
       "      <td>-0.340476</td>\n",
       "    </tr>\n",
       "    <tr>\n",
       "      <th>4</th>\n",
       "      <td>Noncommunicable diseases</td>\n",
       "      <td>Nepal</td>\n",
       "      <td>Males</td>\n",
       "      <td>17.34758</td>\n",
       "      <td>15.46373</td>\n",
       "      <td>2000s</td>\n",
       "      <td>2.909498</td>\n",
       "      <td>Males_Noncommunicable diseases</td>\n",
       "      <td>-0.340607</td>\n",
       "    </tr>\n",
       "  </tbody>\n",
       "</table>\n",
       "</div>"
      ],
      "text/plain": [
       "    Diseases & Risk Factors Country Name   Gender   Numeric  Confidence_Range  \\\n",
       "0  Noncommunicable diseases        Nepal    Males  19.28516          16.59685   \n",
       "1  Noncommunicable diseases        Nepal  Females  19.23258          17.56212   \n",
       "2  Noncommunicable diseases        Nepal    Males  18.83932          16.34251   \n",
       "3  Noncommunicable diseases        Nepal  Females  18.76374          17.01147   \n",
       "4  Noncommunicable diseases        Nepal    Males  17.34758          15.46373   \n",
       "\n",
       "  Year_Bin  Numeric_log                    Gender_Disease  Numeric_scaled  \n",
       "0    1990s     3.009890    Males_Noncommunicable diseases       -0.340427  \n",
       "1    1990s     3.007294  Females_Noncommunicable diseases       -0.340432  \n",
       "2    2000s     2.987666    Males_Noncommunicable diseases       -0.340469  \n",
       "3    2000s     2.983849  Females_Noncommunicable diseases       -0.340476  \n",
       "4    2000s     2.909498    Males_Noncommunicable diseases       -0.340607  "
      ]
     },
     "execution_count": 2,
     "metadata": {},
     "output_type": "execute_result"
    }
   ],
   "source": [
    "# Load the dataset\n",
    "path = \"../EDA/COPD_feature_engineered.csv\"\n",
    "data = pd.read_csv(path)\n",
    "data.head()"
   ]
  },
  {
   "cell_type": "code",
   "execution_count": 3,
   "metadata": {},
   "outputs": [],
   "source": [
    "# Drop irrelevant columns only if they exist\n",
    "columns_to_drop = ['Confidence_Range', 'Gender_Disease', 'Numeric_log', 'Numeric_scaled']\n",
    "data = data.drop(columns=[col for col in columns_to_drop if col in data.columns])"
   ]
  },
  {
   "cell_type": "code",
   "execution_count": 4,
   "metadata": {},
   "outputs": [],
   "source": [
    "# Encode categorical variables (including 'Country Name')\n",
    "data = pd.get_dummies(data, columns=['Diseases & Risk Factors', 'Gender', 'Year_Bin', 'Country Name'], drop_first=True)"
   ]
  },
  {
   "cell_type": "code",
   "execution_count": 5,
   "metadata": {},
   "outputs": [],
   "source": [
    "# Separate features and target variable\n",
    "X = data.drop(columns=['Numeric'])\n",
    "y = data['Numeric']"
   ]
  },
  {
   "cell_type": "code",
   "execution_count": 6,
   "metadata": {},
   "outputs": [
    {
     "name": "stdout",
     "output_type": "stream",
     "text": [
      "Diseases & Risk Factors_Cancer                          bool\n",
      "Diseases & Risk Factors_Cardiovascular diseases         bool\n",
      "Diseases & Risk Factors_Chronic respiratory diseases    bool\n",
      "Diseases & Risk Factors_Diabetes                        bool\n",
      "Diseases & Risk Factors_Harmful Alcohol Use             bool\n",
      "Diseases & Risk Factors_Noncommunicable diseases        bool\n",
      "Diseases & Risk Factors_Obesity/unhealthy diet          bool\n",
      "Diseases & Risk Factors_Physical inactivity             bool\n",
      "Diseases & Risk Factors_Tobacco Use                     bool\n",
      "Gender_Males                                            bool\n",
      "Year_Bin_2000s                                          bool\n",
      "Year_Bin_2010s                                          bool\n",
      "dtype: object\n"
     ]
    }
   ],
   "source": [
    "# Check for non-numeric data in X\n",
    "print(X.dtypes)\n",
    "\n",
    "# Split the data\n",
    "X_train, X_test, y_train, y_test = train_test_split(X, y, test_size=0.2, random_state=42)"
   ]
  },
  {
   "cell_type": "code",
   "execution_count": 7,
   "metadata": {},
   "outputs": [
    {
     "name": "stdout",
     "output_type": "stream",
     "text": [
      "Random Forest Mean Squared Error: 85993154.05609915\n",
      "Random Forest model trained and saved.\n",
      "Linear Regression Mean Squared Error: 76967607.43116347\n",
      "Linear Regression model trained and saved.\n",
      "Support Vector Regression Mean Squared Error: 107237484.10158174\n",
      "Support Vector Regression model trained and saved.\n",
      "Gradient Boosting Mean Squared Error: 80659765.35430664\n",
      "Gradient Boosting model trained and saved.\n",
      "Model training completed\n"
     ]
    }
   ],
   "source": [
    "# Define models to evaluate\n",
    "models = {\n",
    "    'Random Forest': RandomForestRegressor(random_state=42),\n",
    "    'Linear Regression': LinearRegression(),\n",
    "    'Support Vector Regression': SVR(),\n",
    "    'Gradient Boosting': GradientBoostingRegressor()\n",
    "}\n",
    "\n",
    "for name, model in models.items():\n",
    "    model.fit(X_train, y_train)\n",
    "    y_pred = model.predict(X_test)\n",
    "    mse = mean_squared_error(y_test, y_pred)\n",
    "    print(f\"{name} Mean Squared Error: {mse}\")\n",
    "\n",
    "    # Save the models\n",
    "    with open(f'{name.replace(\" \", \"_\")}.pkl', 'wb') as f:\n",
    "        pickle.dump(model, f)\n",
    "    print(f\"{name} model trained and saved.\")\n",
    "print(\"Model training completed\")"
   ]
  }
 ],
 "metadata": {
  "kernelspec": {
   "display_name": "base",
   "language": "python",
   "name": "python3"
  },
  "language_info": {
   "codemirror_mode": {
    "name": "ipython",
    "version": 3
   },
   "file_extension": ".py",
   "mimetype": "text/x-python",
   "name": "python",
   "nbconvert_exporter": "python",
   "pygments_lexer": "ipython3",
   "version": "3.11.7"
  }
 },
 "nbformat": 4,
 "nbformat_minor": 2
}
