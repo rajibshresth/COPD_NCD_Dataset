{
 "cells": [
  {
   "cell_type": "code",
   "execution_count": 1,
   "metadata": {},
   "outputs": [],
   "source": [
    "# import the libraries needed\n",
    "import pandas as pd\n",
    "import numpy as np"
   ]
  },
  {
   "cell_type": "code",
   "execution_count": 2,
   "metadata": {},
   "outputs": [
    {
     "data": {
      "text/html": [
       "<div>\n",
       "<style scoped>\n",
       "    .dataframe tbody tr th:only-of-type {\n",
       "        vertical-align: middle;\n",
       "    }\n",
       "\n",
       "    .dataframe tbody tr th {\n",
       "        vertical-align: top;\n",
       "    }\n",
       "\n",
       "    .dataframe thead th {\n",
       "        text-align: right;\n",
       "    }\n",
       "</style>\n",
       "<table border=\"1\" class=\"dataframe\">\n",
       "  <thead>\n",
       "    <tr style=\"text-align: right;\">\n",
       "      <th></th>\n",
       "      <th>Diseases &amp; Risk Factors</th>\n",
       "      <th>Year</th>\n",
       "      <th>Country Name</th>\n",
       "      <th>Gender</th>\n",
       "      <th>Numeric</th>\n",
       "      <th>Lower Confidence Limit</th>\n",
       "      <th>Upper Confidence Limit</th>\n",
       "    </tr>\n",
       "  </thead>\n",
       "  <tbody>\n",
       "    <tr>\n",
       "      <th>0</th>\n",
       "      <td>Noncommunicable diseases</td>\n",
       "      <td>2000</td>\n",
       "      <td>Nepal</td>\n",
       "      <td>Males</td>\n",
       "      <td>19.28516</td>\n",
       "      <td>12.01887</td>\n",
       "      <td>28.61572</td>\n",
       "    </tr>\n",
       "    <tr>\n",
       "      <th>1</th>\n",
       "      <td>Noncommunicable diseases</td>\n",
       "      <td>2000</td>\n",
       "      <td>Nepal</td>\n",
       "      <td>Females</td>\n",
       "      <td>19.23258</td>\n",
       "      <td>11.27446</td>\n",
       "      <td>28.83658</td>\n",
       "    </tr>\n",
       "    <tr>\n",
       "      <th>2</th>\n",
       "      <td>Noncommunicable diseases</td>\n",
       "      <td>2001</td>\n",
       "      <td>Nepal</td>\n",
       "      <td>Males</td>\n",
       "      <td>18.83932</td>\n",
       "      <td>11.70583</td>\n",
       "      <td>28.04834</td>\n",
       "    </tr>\n",
       "    <tr>\n",
       "      <th>3</th>\n",
       "      <td>Noncommunicable diseases</td>\n",
       "      <td>2001</td>\n",
       "      <td>Nepal</td>\n",
       "      <td>Females</td>\n",
       "      <td>18.76374</td>\n",
       "      <td>11.07713</td>\n",
       "      <td>28.0886</td>\n",
       "    </tr>\n",
       "    <tr>\n",
       "      <th>4</th>\n",
       "      <td>Noncommunicable diseases</td>\n",
       "      <td>2002</td>\n",
       "      <td>Nepal</td>\n",
       "      <td>Males</td>\n",
       "      <td>17.34758</td>\n",
       "      <td>10.63618</td>\n",
       "      <td>26.09991</td>\n",
       "    </tr>\n",
       "  </tbody>\n",
       "</table>\n",
       "</div>"
      ],
      "text/plain": [
       "    Diseases & Risk Factors  Year Country Name   Gender   Numeric  \\\n",
       "0  Noncommunicable diseases  2000        Nepal    Males  19.28516   \n",
       "1  Noncommunicable diseases  2000        Nepal  Females  19.23258   \n",
       "2  Noncommunicable diseases  2001        Nepal    Males  18.83932   \n",
       "3  Noncommunicable diseases  2001        Nepal  Females  18.76374   \n",
       "4  Noncommunicable diseases  2002        Nepal    Males  17.34758   \n",
       "\n",
       "  Lower Confidence Limit Upper Confidence Limit  \n",
       "0               12.01887               28.61572  \n",
       "1               11.27446               28.83658  \n",
       "2               11.70583               28.04834  \n",
       "3               11.07713                28.0886  \n",
       "4               10.63618               26.09991  "
      ]
     },
     "execution_count": 2,
     "metadata": {},
     "output_type": "execute_result"
    }
   ],
   "source": [
    "# Load the dataset\n",
    "path = \"../Data/COPD.csv\"\n",
    "df = pd.read_csv(path)\n",
    "df.head()"
   ]
  },
  {
   "cell_type": "code",
   "execution_count": 3,
   "metadata": {},
   "outputs": [],
   "source": [
    "# One-hot encoding for 'Gender', 'Diseases & Risk Factors', and 'Country Name'\n",
    "df_encoded = pd.get_dummies(df, columns=['Gender', 'Diseases & Risk Factors', 'Country Name'], drop_first=True)"
   ]
  },
  {
   "cell_type": "code",
   "execution_count": 4,
   "metadata": {},
   "outputs": [],
   "source": [
    "# New Feature\n",
    "# Confidence interval range\n",
    "df['Upper Confidence Limit'] = pd.to_numeric(df['Upper Confidence Limit'], errors='coerce')\n",
    "df['Lower Confidence Limit'] = pd.to_numeric(df['Lower Confidence Limit'], errors='coerce')\n",
    "df['Confidence_Range'] = df['Upper Confidence Limit'] - df['Lower Confidence Limit']\n",
    "\n",
    "# Year bins\n",
    "df['Year_Bin'] = pd.cut(df['Year'], bins=[1980, 1990, 2000, 2010, 2020], labels=['1980s', '1990s', '2000s', '2010s'])"
   ]
  },
  {
   "cell_type": "code",
   "execution_count": 5,
   "metadata": {},
   "outputs": [],
   "source": [
    "# Apply log transformation to normalize skewed data (only if Numeric > 0)\n",
    "df['Numeric_log'] = np.log(df['Numeric'] + 1)  # Add 1 to avoid log(0)\n"
   ]
  },
  {
   "cell_type": "code",
   "execution_count": 6,
   "metadata": {},
   "outputs": [],
   "source": [
    "# Interaction between 'Gender' and 'Diseases & Risk Factors'\n",
    "df['Gender_Disease'] = df['Gender'] + \"_\" + df['Diseases & Risk Factors']\n",
    "df_encoded = pd.get_dummies(df, columns=['Gender_Disease'], drop_first=True)\n"
   ]
  },
  {
   "cell_type": "code",
   "execution_count": 7,
   "metadata": {},
   "outputs": [],
   "source": [
    "from sklearn.preprocessing import StandardScaler\n",
    "\n",
    "# Normalize Numeric column\n",
    "scaler = StandardScaler()\n",
    "df['Numeric_scaled'] = scaler.fit_transform(df[['Numeric']])"
   ]
  },
  {
   "cell_type": "code",
   "execution_count": 8,
   "metadata": {},
   "outputs": [],
   "source": [
    "# Drop Unnecessary Columns after feature engineering\n",
    "columns_to_drop = ['Lower Confidence Limit', 'Upper Confidence Limit', 'Year']\n",
    "df.drop(columns=columns_to_drop, inplace=True)"
   ]
  },
  {
   "cell_type": "code",
   "execution_count": 9,
   "metadata": {},
   "outputs": [],
   "source": [
    "# Save the new DataFrame\n",
    "df.to_csv(\"COPD_feature_engineered.csv\", index=False, encoding='utf-8')"
   ]
  }
 ],
 "metadata": {
  "kernelspec": {
   "display_name": "base",
   "language": "python",
   "name": "python3"
  },
  "language_info": {
   "codemirror_mode": {
    "name": "ipython",
    "version": 3
   },
   "file_extension": ".py",
   "mimetype": "text/x-python",
   "name": "python",
   "nbconvert_exporter": "python",
   "pygments_lexer": "ipython3",
   "version": "3.11.7"
  }
 },
 "nbformat": 4,
 "nbformat_minor": 2
}
