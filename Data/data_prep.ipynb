{
 "cells": [
  {
   "cell_type": "code",
   "execution_count": 1,
   "metadata": {},
   "outputs": [],
   "source": [
    "# Import Library\n",
    "import pandas as pd"
   ]
  },
  {
   "cell_type": "code",
   "execution_count": 2,
   "metadata": {},
   "outputs": [],
   "source": [
    "# Read all the csv Data\n",
    "ncd_data = pd.read_csv('./NCD_Nepal.csv')"
   ]
  },
  {
   "cell_type": "code",
   "execution_count": 3,
   "metadata": {},
   "outputs": [
    {
     "name": "stdout",
     "output_type": "stream",
     "text": [
      "    Diseases & Risk Factors                                Indicator Name  \\\n",
      "0  Noncommunicable diseases  Probability of premature mortality from NCDs   \n",
      "1  Noncommunicable diseases  Probability of premature mortality from NCDs   \n",
      "2  Noncommunicable diseases  Probability of premature mortality from NCDs   \n",
      "3  Noncommunicable diseases  Probability of premature mortality from NCDs   \n",
      "4  Noncommunicable diseases  Probability of premature mortality from NCDs   \n",
      "\n",
      "  Cancer Type  Year Country Name                  Region   Gender Area  \\\n",
      "0         NaN  2000        Nepal  South-East Asia Region    Total  NaN   \n",
      "1         NaN  2000        Nepal  South-East Asia Region    Males  NaN   \n",
      "2         NaN  2000        Nepal  South-East Asia Region  Females  NaN   \n",
      "3         NaN  2001        Nepal  South-East Asia Region    Total  NaN   \n",
      "4         NaN  2001        Nepal  South-East Asia Region    Males  NaN   \n",
      "\n",
      "    Numeric Lower Confidence Limit Upper Confidence Limit  Comment  \\\n",
      "0  19.24832               11.61031                28.7283      NaN   \n",
      "1  19.28516               12.01887               28.61572      NaN   \n",
      "2  19.23258               11.27446               28.83658      NaN   \n",
      "3  18.79375               11.36511               28.06658      NaN   \n",
      "4  18.83932               11.70583               28.04834      NaN   \n",
      "\n",
      "   Unnamed: 12  \n",
      "0          NaN  \n",
      "1          NaN  \n",
      "2          NaN  \n",
      "3          NaN  \n",
      "4          NaN  \n"
     ]
    }
   ],
   "source": [
    "# Display first few rows\n",
    "print(ncd_data.head())\n"
   ]
  },
  {
   "cell_type": "code",
   "execution_count": 4,
   "metadata": {},
   "outputs": [],
   "source": [
    "\n",
    "# Assuming df is your DataFrame\n",
    "ncd_data = ncd_data.loc[:, ~ncd_data.columns.str.contains('^Unnamed')]\n"
   ]
  },
  {
   "cell_type": "code",
   "execution_count": 5,
   "metadata": {},
   "outputs": [
    {
     "name": "stdout",
     "output_type": "stream",
     "text": [
      "    Diseases & Risk Factors                                Indicator Name  \\\n",
      "0  Noncommunicable diseases  Probability of premature mortality from NCDs   \n",
      "1  Noncommunicable diseases  Probability of premature mortality from NCDs   \n",
      "2  Noncommunicable diseases  Probability of premature mortality from NCDs   \n",
      "3  Noncommunicable diseases  Probability of premature mortality from NCDs   \n",
      "4  Noncommunicable diseases  Probability of premature mortality from NCDs   \n",
      "\n",
      "  Cancer Type  Year Country Name                  Region   Gender Area  \\\n",
      "0         NaN  2000        Nepal  South-East Asia Region    Total  NaN   \n",
      "1         NaN  2000        Nepal  South-East Asia Region    Males  NaN   \n",
      "2         NaN  2000        Nepal  South-East Asia Region  Females  NaN   \n",
      "3         NaN  2001        Nepal  South-East Asia Region    Total  NaN   \n",
      "4         NaN  2001        Nepal  South-East Asia Region    Males  NaN   \n",
      "\n",
      "    Numeric Lower Confidence Limit Upper Confidence Limit  Comment  \n",
      "0  19.24832               11.61031                28.7283      NaN  \n",
      "1  19.28516               12.01887               28.61572      NaN  \n",
      "2  19.23258               11.27446               28.83658      NaN  \n",
      "3  18.79375               11.36511               28.06658      NaN  \n",
      "4  18.83932               11.70583               28.04834      NaN  \n"
     ]
    }
   ],
   "source": [
    "print(ncd_data.head())"
   ]
  },
  {
   "cell_type": "code",
   "execution_count": 6,
   "metadata": {},
   "outputs": [],
   "source": [
    "# Drop Columns\n",
    "columns_to_drop = ['Indicator Name', 'Cancer Type', 'Region', 'Area', 'Comment']\n",
    "\n",
    "\n",
    "# Dropping columns in each dataframe\n",
    "ncd_data.drop(columns=columns_to_drop, inplace=True, errors='ignore')"
   ]
  },
  {
   "cell_type": "code",
   "execution_count": 7,
   "metadata": {},
   "outputs": [],
   "source": [
    "ncd_data = ncd_data[ncd_data['Gender'] != 'Total']"
   ]
  },
  {
   "cell_type": "code",
   "execution_count": 8,
   "metadata": {},
   "outputs": [],
   "source": [
    "ncd_data.to_csv(\"COPD.csv\", index=False, encoding='utf-8')"
   ]
  }
 ],
 "metadata": {
  "kernelspec": {
   "display_name": "base",
   "language": "python",
   "name": "python3"
  },
  "language_info": {
   "codemirror_mode": {
    "name": "ipython",
    "version": 3
   },
   "file_extension": ".py",
   "mimetype": "text/x-python",
   "name": "python",
   "nbconvert_exporter": "python",
   "pygments_lexer": "ipython3",
   "version": "3.11.7"
  }
 },
 "nbformat": 4,
 "nbformat_minor": 2
}
